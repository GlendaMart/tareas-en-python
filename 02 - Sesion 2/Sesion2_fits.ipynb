{
 "cells": [
  {
   "cell_type": "markdown",
   "metadata": {},
   "source": [
    "# Archivos Fits usando AstroPy, imagen RGB\n",
    "\n",
    "- Flexible Image Transport System.\n",
    "- Almacena datos como espectros, listas, cubos de datos.\n",
    "- Cada archivo contiene una cabecera o header que describe los datos.\n",
    "- Soporta datos multidimensionales e información compleja."
   ]
  },
  {
   "cell_type": "markdown",
   "metadata": {},
   "source": [
    "https://dr12.sdss.org/fields/"
   ]
  },
  {
   "cell_type": "code",
   "execution_count": 1,
   "metadata": {},
   "outputs": [
    {
     "name": "stdout",
     "output_type": "stream",
     "text": [
      "Requirement already satisfied: numpy in c:\\users\\hp\\anaconda3\\lib\\site-packages (1.19.2)\n",
      "Requirement already satisfied: astropy in c:\\users\\hp\\anaconda3\\lib\\site-packages (4.0.2)\n",
      "Requirement already satisfied: numpy>=1.16 in c:\\users\\hp\\anaconda3\\lib\\site-packages (from astropy) (1.19.2)\n"
     ]
    }
   ],
   "source": [
    "!pip install numpy\n",
    "!pip install astropy"
   ]
  },
  {
   "cell_type": "code",
   "execution_count": 2,
   "metadata": {},
   "outputs": [],
   "source": [
    "import numpy as np\n",
    "import matplotlib.pyplot as plt"
   ]
  },
  {
   "cell_type": "code",
   "execution_count": 3,
   "metadata": {},
   "outputs": [],
   "source": [
    "from astropy.io import fits"
   ]
  },
  {
   "cell_type": "markdown",
   "metadata": {},
   "source": [
    "Ahora podemos cargar el archivo FITS. Utilizaremos el archivo de M42 FITS, utilizando la función open(), seguido de la dirección de nuestro archivo."
   ]
  },
  {
   "cell_type": "code",
   "execution_count": 4,
   "metadata": {},
   "outputs": [],
   "source": [
    "M42 = fits.open('frame-u-006073-4-0063.fits')"
   ]
  },
  {
   "cell_type": "code",
   "execution_count": 5,
   "metadata": {},
   "outputs": [
    {
     "data": {
      "text/plain": [
       "[<astropy.io.fits.hdu.image.PrimaryHDU object at 0x0000023B16E0E7F0>, <astropy.io.fits.hdu.image.ImageHDU object at 0x0000023B16C95D30>, <astropy.io.fits.hdu.table.BinTableHDU object at 0x0000023B16E38EB0>, <astropy.io.fits.hdu.table.BinTableHDU object at 0x0000023B16E49130>]"
      ]
     },
     "execution_count": 5,
     "metadata": {},
     "output_type": "execute_result"
    }
   ],
   "source": [
    "M42"
   ]
  },
  {
   "cell_type": "code",
   "execution_count": 5,
   "metadata": {},
   "outputs": [
    {
     "name": "stdout",
     "output_type": "stream",
     "text": [
      "Filename: frame-u-006073-4-0063.fits\n",
      "No.    Name      Ver    Type      Cards   Dimensions   Format\n",
      "  0  PRIMARY       1 PrimaryHDU      96   (2048, 1489)   float32   \n",
      "  1                1 ImageHDU         6   (2048,)   float32   \n",
      "  2                1 BinTableHDU     27   1R x 3C   [49152E, 2048E, 1489E]   \n",
      "  3                1 BinTableHDU     79   1R x 31C   [J, 3A, J, A, D, D, 2J, J, D, D, D, D, D, D, D, D, D, D, D, D, D, D, D, D, D, D, D, D, D, E, E]   \n"
     ]
    }
   ],
   "source": [
    "M42.info()"
   ]
  },
  {
   "cell_type": "markdown",
   "metadata": {},
   "source": [
    "La información de la imagen está ubicada en el bloque `PRIMARY`. Podemos ver que la imagen contiene 2 HDU (Header Data Unit). Un HDU es un componente de alto nivel de los archivos FITS, que contienen datos y metadatos de un header asociado.\n",
    "\n",
    "![image](http://www.stsci.edu/instruments/wfpc2/Wfpc2_dhb/images/intro_ch2a.gif)"
   ]
  },
  {
   "cell_type": "code",
   "execution_count": 6,
   "metadata": {},
   "outputs": [
    {
     "data": {
      "text/plain": [
       "<astropy.io.fits.hdu.image.PrimaryHDU at 0x1c34d97ca30>"
      ]
     },
     "execution_count": 6,
     "metadata": {},
     "output_type": "execute_result"
    }
   ],
   "source": [
    "M42[0]"
   ]
  },
  {
   "cell_type": "code",
   "execution_count": 7,
   "metadata": {},
   "outputs": [
    {
     "data": {
      "text/plain": [
       "SIMPLE  =                    T /                                                \n",
       "BITPIX  =                  -32 / 32 bit floating point                          \n",
       "NAXIS   =                    2                                                  \n",
       "NAXIS1  =                 2048                                                  \n",
       "NAXIS2  =                 1489                                                  \n",
       "EXTEND  =                    T /Extensions may be present                       \n",
       "BZERO   =              0.00000 /Set by MRD_SCALE                                \n",
       "BSCALE  =              1.00000 /Set by MRD_SCALE                                \n",
       "TAI     =        4649973257.37 / 1st row Number of seconds since Nov 17 1858    \n",
       "RA      =            83.820000 / 1st row RA of telescope boresight (deg)        \n",
       "DEC     =           -5.349071  / 1st row Dec of telescope boresight (degrees)   \n",
       "SPA     =             180.000  / 1st row Cam col position angle wrt N (deg)     \n",
       "IPA     =             137.185  / 1st row Inst rotator position angle (deg)      \n",
       "IPARATE =             -0.0005  / 1st row Inst rotator anglr velocity (deg/sec)  \n",
       "AZ      =            306.32843 / 1st row Azimuth (encoder) of tele (0=N?) (deg) \n",
       "ALT     =            35.372584 / 1st row Altitude (encoder) of tele (degrees)   \n",
       "FOCUS   =           -166.00000 / 1st row - Focus piston (microns?)              \n",
       "DATE-OBS= '2006-03-25'         / 1st row - TAI date                             \n",
       "TAIHMS  = '03:14:17.36'        / 1st row TAI time HH:MM:SS.SS                   \n",
       "COMMENT  TAI,RA,DEC,SPA,IPA,IPARATE,AZ,ALT,FOCUS at reading of col 0, row 0     \n",
       "ORIGIN  = 'SDSS    '                                                            \n",
       "TELESCOP= '2.5m    '                                                            \n",
       "TIMESYS = 'TAI     '                                                            \n",
       "RUN     =                 6073 / Run number                                     \n",
       "FRAME   =                   67 / Frame sequence number within the run           \n",
       "CCDLOC  =                   34 / Survey location of CCD (e.g., rowCol)          \n",
       "STRIPE  =                  213 / Stripe index number (23 <--> eta=0)            \n",
       "STRIP   = 'S       '           / Strip in the stripe being tracked.             \n",
       "FLAVOR  = 'calibration'        / Flavor of this run                             \n",
       "OBSERVER= 'viktorm '           / Observer                                       \n",
       "SYS_SCN = 'mean    '           / System of the scan great circle (e.g., mean)   \n",
       "EQNX_SCN=           2000.00    / Equinox of the scan great circle. (years)      \n",
       "NODE    =           0.00000    / RA of the great circle's ascending node (deg)  \n",
       "INCL    =           0.00000    / Great circle's inclination wrt cel. eq. (deg)  \n",
       "XBORE   =           22.74      / Boresight x offset from the array center (mm)  \n",
       "YBORE   =           0.00       / Boresight x offset from the array center (mm)  \n",
       "OBJECT  = '213 S   '           / e.g., 'stripe 50.6 degrees, north strip'       \n",
       "EXPTIME = '53.907456'          / Exposure time (seconds)                        \n",
       "SYSTEM  = 'FK5     '           / System of the TCC coordinates (e.g., mean)     \n",
       "CCDMODE = 'DRIFT   '           / 'STARING' or 'DRIFT'                           \n",
       "C_OBS   =                26322 / CCD row clock rate (usec/row)                  \n",
       "COLBIN  =                    1 / Binning factor perpendicular to the columns    \n",
       "ROWBIN  =                    1 / Binning factor perpendicular to the rows       \n",
       "DAVERS  = 'v15_11  '           / Version of DA software                         \n",
       "SCDMETHD= 'sqrtDynamic'        / scdMethod                                      \n",
       "SCDWIDTH=                 1280 / scdDisplayWidth                                \n",
       "SCDDECMF=                    1 / scdDecimateFactor                              \n",
       "SCDOFSET=                  410 / scdDisplayOffset                               \n",
       "SCDDYNTH=                  -21 / scdDynamicThresh                               \n",
       "SCDSTTHL=                   30 / scdStaticThreshL                               \n",
       "SCDSTTHR=                   30 / scdStaticThreshR                               \n",
       "SCDREDSZ=                  527 / scdReduceSize                                  \n",
       "SCDSKYL =                 1247 / scdSkyLeft                                     \n",
       "SCDSKYR =                 1214 / scdSkyRight                                    \n",
       "COMMENT  CCD-specific parameters                                                \n",
       "CAMROW  =                    3 / Row in the imaging camera                      \n",
       "BADLINES=                    0 / Number of bad lines in frame                   \n",
       "EQUINOX =              2000.00 /                                                \n",
       "SOFTBIAS=                 1000 / software \"bias\" added to all DN                \n",
       "BUNIT   = 'nanomaggy'          / 1 nanomaggy = 3.631e-6 Jy                      \n",
       "FILTER  = 'u       '           / filter used                                    \n",
       "CAMCOL  =                    4 / column in the imaging camera                   \n",
       "VERSION = 'v5_6_3  '                                                            \n",
       "DERV_VER= 'NOCVS:v8_23'                                                         \n",
       "ASTR_VER= 'NOCVS:v5_24'                                                         \n",
       "ASTRO_ID= '2010-03-29T20:33:41 25639'                                           \n",
       "BIAS_ID = 'PS      '                                                            \n",
       "FRAME_ID= '2010-08-10T09:06:37 03057'                                           \n",
       "KO_VER  = 'devel   '                                                            \n",
       "PS_ID   = '2010-03-29T20:12:50 25067 camCol 4'                                  \n",
       "ATVSN   = 'NOCVS:v5_24'        / ASTROTOOLS version tag                         \n",
       "RADECSYS= 'ICRS    '           / International Celestial Ref. System            \n",
       "CTYPE1  = 'RA---TAN'           /Coordinate type                                 \n",
       "CTYPE2  = 'DEC--TAN'           /Coordinate type                                 \n",
       "CUNIT1  = 'deg     '           /Units                                           \n",
       "CUNIT2  = 'deg     '           /Units                                           \n",
       "CRPIX1  =        1025.00000000 /X of reference pixel                            \n",
       "CRPIX2  =        745.000000000 /Y of reference pixel                            \n",
       "CRVAL1  =        83.9233250659 /RA of reference pixel (deg)                     \n",
       "CRVAL2  =       -5.31904299495 /Dec of reference pixel (deg)                    \n",
       "CD1_1   =    0.000110087467634 /RA deg per column pixel                         \n",
       "CD1_2   =    2.52333879844E-08 /RA deg per row pixel                            \n",
       "CD2_1   =    4.95111108581E-08 /Dec deg per column pixel                        \n",
       "CD2_2   =   -0.000110024887054 /Dec deg per row pixel                           \n",
       "HISTORY GSSSPUTAST: Aug 10 09:06:42 2010                                        \n",
       "COMMENT  Calibration parameters                                                 \n",
       "COMMENT  Floats truncated at 10 binary digits with FLOATCOMPRESS                \n",
       "NMGY    =            0.0137521 / Calibration factor [nMgy per count]            \n",
       "NMGYIVAR=             0.155281 / Calibration factor inverse variance            \n",
       "VERSIDL = '7.0     '           / Version of IDL                                 \n",
       "VERSUTIL= 'v5_5_5  '           / Version of idlutils                            \n",
       "VERSPOP = 'v1_11_1 '           / Version of photoop product                     \n",
       "PCALIB  = '/clusterfs/riemann/raid006/dr8/groups/boss/calib/dr8_final' / Value o\n",
       "PSKY    = '/clusterfs/riemann/raid006/dr8/groups/boss/photo/sky' / Value of PHOT\n",
       "RERUN   = '301     '           / rerun                                          \n",
       "HISTORY SDSS_FRAME_ASTROM: Astrometry fixed for dr9 Sun Jun 24 23:13:07 2012    "
      ]
     },
     "execution_count": 7,
     "metadata": {},
     "output_type": "execute_result"
    }
   ],
   "source": [
    "M42[0].header"
   ]
  },
  {
   "cell_type": "code",
   "execution_count": 8,
   "metadata": {},
   "outputs": [
    {
     "data": {
      "text/plain": [
       "XTENSION= 'IMAGE   '           /Image Extension created by MWRFITS v1.11        \n",
       "BITPIX  =                  -32 /                                                \n",
       "NAXIS   =                    1 /                                                \n",
       "NAXIS1  =                 2048 /                                                \n",
       "PCOUNT  =                    0 /                                                \n",
       "GCOUNT  =                    1 /                                                "
      ]
     },
     "execution_count": 8,
     "metadata": {},
     "output_type": "execute_result"
    }
   ],
   "source": [
    "M42[1].header"
   ]
  },
  {
   "cell_type": "code",
   "execution_count": 9,
   "metadata": {},
   "outputs": [],
   "source": [
    "data = M42[0].data"
   ]
  },
  {
   "cell_type": "code",
   "execution_count": 10,
   "metadata": {},
   "outputs": [
    {
     "data": {
      "text/plain": [
       "numpy.ndarray"
      ]
     },
     "execution_count": 10,
     "metadata": {},
     "output_type": "execute_result"
    }
   ],
   "source": [
    "type(data)"
   ]
  },
  {
   "cell_type": "markdown",
   "metadata": {},
   "source": [
    "Nuestra data es un 2D numpy array. "
   ]
  },
  {
   "cell_type": "code",
   "execution_count": 11,
   "metadata": {},
   "outputs": [
    {
     "data": {
      "text/plain": [
       "(1489, 2048)"
      ]
     },
     "execution_count": 11,
     "metadata": {},
     "output_type": "execute_result"
    }
   ],
   "source": [
    "data.shape #VERIFICA FORMA"
   ]
  },
  {
   "cell_type": "code",
   "execution_count": 12,
   "metadata": {},
   "outputs": [
    {
     "data": {
      "text/plain": [
       "'float32'"
      ]
     },
     "execution_count": 12,
     "metadata": {},
     "output_type": "execute_result"
    }
   ],
   "source": [
    "data.dtype.name  #FLOAT\n"
   ]
  },
  {
   "cell_type": "code",
   "execution_count": 13,
   "metadata": {},
   "outputs": [
    {
     "name": "stdout",
     "output_type": "stream",
     "text": [
      "Min: -0.34472656\n",
      "Max: 552.0\n",
      "Mean: 5.3398747\n",
      "Stdev: 15.16415\n"
     ]
    }
   ],
   "source": [
    "print('Min:', np.min(data)) #minimo\n",
    "print('Max:', np.max(data)) #maximo\n",
    "print('Mean:', np.mean(data)) #media\n",
    "print('Stdev:', np.std(data)) #estandar"
   ]
  },
  {
   "cell_type": "code",
   "execution_count": 14,
   "metadata": {},
   "outputs": [
    {
     "data": {
      "text/plain": [
       "<matplotlib.colorbar.Colorbar at 0x1c34fa76460>"
      ]
     },
     "execution_count": 14,
     "metadata": {},
     "output_type": "execute_result"
    },
    {
     "data": {
      "image/png": "[encoded data removed]",
      "text/plain": [
       "<Figure size 432x288 with 2 Axes>"
      ]
     },
     "metadata": {
      "needs_background": "light"
     },
     "output_type": "display_data"
    }
   ],
   "source": [
    "plt.imshow(data, cmap='inferno') # es color\n",
    "plt.colorbar()"
   ]
  },
  {
   "cell_type": "markdown",
   "metadata": {},
   "source": [
    "http://wiki.scipy.org/Cookbook/Matplotlib/Show_colormaps"
   ]
  },
  {
   "cell_type": "markdown",
   "metadata": {},
   "source": [
    "Plotting histogram"
   ]
  },
  {
   "cell_type": "code",
   "execution_count": null,
   "metadata": {},
   "outputs": [],
   "source": [
    "histogram = plt.hist(data.flat, bins=500) "
   ]
  },
  {
   "cell_type": "code",
   "execution_count": null,
   "metadata": {},
   "outputs": [],
   "source": [
    "from matplotlib.colors import LogNorm\n",
    "\n",
    "\n",
    "plt.imshow(data, cmap='gray', norm=LogNorm())\n",
    "cbar = plt.colorbar(ticks=[4.e3,1.e4,2.e4])\n",
    "cbar.ax.set_yticklabels(['5,000','10,000','20,000'])\n"
   ]
  },
  {
   "cell_type": "code",
   "execution_count": null,
   "metadata": {},
   "outputs": [],
   "source": [
    "M42u = fits.open('frame-u-006073-4-0063.fits')\n",
    "M42i = fits.open('frame-i-006073-4-0063.fits')\n",
    "M42g = fits.open('frame-g-006073-4-0063.fits')"
   ]
  },
  {
   "cell_type": "code",
   "execution_count": null,
   "metadata": {},
   "outputs": [],
   "source": [
    "from astropy.visualization import make_lupton_rgb"
   ]
  },
  {
   "cell_type": "code",
   "execution_count": null,
   "metadata": {},
   "outputs": [],
   "source": [
    "g = M42g[0].data\n",
    "i = M42i[0].data\n",
    "u = M42u[0].data"
   ]
  },
  {
   "cell_type": "code",
   "execution_count": null,
   "metadata": {},
   "outputs": [],
   "source": [
    "\n",
    "rgb_default = make_lupton_rgb(i,g, u,stretch=1.5,Q=10)\n",
    "\n",
    "\n",
    "\n",
    "plt.imshow(rgb_default, origin='lower')\n",
    "plt.savefig(\"rgbM42.jpg\")"
   ]
  },
  {
   "cell_type": "markdown",
   "metadata": {},
   "source": [
    "## Ejercicio FITS"
   ]
  },
  {
   "cell_type": "markdown",
   "metadata": {},
   "source": [
    "### Units and Coordinates"
   ]
  },
  {
   "cell_type": "code",
   "execution_count": null,
   "metadata": {},
   "outputs": [],
   "source": [
    "from astropy import units as u\n",
    "from astropy.coordinates import SkyCoord"
   ]
  },
  {
   "cell_type": "markdown",
   "metadata": {},
   "source": [
    "![asddsad](https://skyandtelescope.org/wp-content/uploads/RA-Dec-wiki-Tom-RuenCC-BY-SA-3.0.jpg)"
   ]
  },
  {
   "cell_type": "code",
   "execution_count": null,
   "metadata": {},
   "outputs": [],
   "source": [
    "c = SkyCoord(ra=10.625*u.degree, dec=41.2*u.degree)\n",
    "c = SkyCoord(10.625, 41.2, unit='deg')\n",
    "c = SkyCoord('00h42m30s', '+41d12m00s')\n",
    "c = SkyCoord('00h42.5m', '+41d12m')\n",
    "c = SkyCoord('00 42 30 +41 12 00', unit=(u.hourangle, u.deg))\n",
    "c = SkyCoord('00:42.5 +41:12', unit=(u.hourangle, u.deg))\n",
    "c"
   ]
  },
  {
   "cell_type": "code",
   "execution_count": null,
   "metadata": {},
   "outputs": [],
   "source": [
    "c.ra"
   ]
  },
  {
   "cell_type": "code",
   "execution_count": null,
   "metadata": {},
   "outputs": [],
   "source": [
    "c.ra.hour"
   ]
  },
  {
   "cell_type": "code",
   "execution_count": null,
   "metadata": {},
   "outputs": [],
   "source": [
    "c.dec"
   ]
  },
  {
   "cell_type": "code",
   "execution_count": null,
   "metadata": {},
   "outputs": [],
   "source": [
    "c.dec.radian"
   ]
  },
  {
   "cell_type": "code",
   "execution_count": null,
   "metadata": {},
   "outputs": [],
   "source": []
  },
  {
   "cell_type": "code",
   "execution_count": null,
   "metadata": {},
   "outputs": [],
   "source": []
  }
 ],
 "metadata": {
  "kernelspec": {
   "display_name": "Python 3",
   "language": "python",
   "name": "python3"
  },
  "language_info": {
   "codemirror_mode": {
    "name": "ipython",
    "version": 3
   },
   "file_extension": ".py",
   "mimetype": "text/x-python",
   "name": "python",
   "nbconvert_exporter": "python",
   "pygments_lexer": "ipython3",
   "version": "3.8.5"
  }
 },
 "nbformat": 4,
 "nbformat_minor": 4
}
