{
 "cells": [
  {
   "cell_type": "markdown",
   "metadata": {},
   "source": [
    "# For anidado (nested)\n",
    "\n",
    "¿Un for dentro de un for?"
   ]
  },
  {
   "cell_type": "markdown",
   "metadata": {},
   "source": [
    "El \"bucle interno\" se ejecutará una vez por cada iteración del \"bucle externo\":"
   ]
  },
  {
   "cell_type": "code",
<<<<<<< HEAD
   "execution_count": 1,
=======
   "execution_count": 2,
>>>>>>> 25f01f8060d79cf52748e04aedef624da637cec4
   "metadata": {},
   "outputs": [
    {
     "name": "stdout",
     "output_type": "stream",
     "text": [
<<<<<<< HEAD
      "a 1\n",
      "a 2\n",
      "a 3\n",
      "b 1\n",
      "b 2\n",
      "b 3\n",
      "c 1\n",
      "c 2\n",
      "c 3\n"
=======
      "a\n",
      "1\n",
      "2\n",
      "3\n",
      "b\n",
      "1\n",
      "2\n",
      "3\n",
      "c\n",
      "1\n",
      "2\n",
      "3\n"
>>>>>>> 25f01f8060d79cf52748e04aedef624da637cec4
     ]
    }
   ],
   "source": [
    "lista1 = [\"a\", \"b\", \"c\"]\n",
    "lista2 = [\"1\", \"2\", \"3\"]\n",
    "\n",
    "for x in lista1:\n",
    "    print(x)\n",
    "    for y in lista2:\n",
    "        print(y)"
   ]
  },
  {
   "cell_type": "markdown",
   "metadata": {},
   "source": [
    "Los bucles pueden tener cualquier nivel de anidamiento (un bucle dentro de otro bucle dentro de un tercero, etc.).\n",
    "\n",
    "Aunque en Python no es necesario, se recomienda que los nombres de las variables de control de los bucles anidados no coincidan, para evitar ambigüedades."
   ]
  },
  {
   "cell_type": "markdown",
   "metadata": {},
   "source": [
    "**Función range():**\n",
    "\n",
    "La función range () devuelve una secuencia de números, comenzando desde 0 de forma predeterminada, se incrementa en 1 (de forma predeterminada) y se detiene antes de un número especificado."
   ]
  },
  {
   "cell_type": "markdown",
   "metadata": {},
   "source": [
    "**range(start, stop, step)**\n",
    "\n",
    "    start: Opcional. Un número entero que especifica en qué posición comenzar. El valor predeterminado es 0\n",
    "    stop:  Obligatorio. Un número entero que especifica en qué posición detenerse (no incluido).\n",
    "    step: Opcional. Un número entero que especifica el incremento. El valor predeterminado es 1"
   ]
  },
  {
   "cell_type": "code",
<<<<<<< HEAD
   "execution_count": 2,
=======
   "execution_count": 7,
>>>>>>> 25f01f8060d79cf52748e04aedef624da637cec4
   "metadata": {},
   "outputs": [
    {
     "name": "stdout",
     "output_type": "stream",
     "text": [
      "3\n",
<<<<<<< HEAD
      "4\n",
=======
>>>>>>> 25f01f8060d79cf52748e04aedef624da637cec4
      "5\n"
     ]
    }
   ],
   "source": [
    "c = 10\n",
    "if c / 2 == 5:\n",
    "    y = 2\n",
    "x = range(3, 6 , y)\n",
    "for n in x:\n",
    "    print(n)"
   ]
  },
  {
   "cell_type": "code",
<<<<<<< HEAD
   "execution_count": 3,
=======
   "execution_count": 4,
>>>>>>> 25f01f8060d79cf52748e04aedef624da637cec4
   "metadata": {},
   "outputs": [
    {
     "name": "stdout",
     "output_type": "stream",
     "text": [
      "i (externa) vale 0\n",
      "i (interna) vale 0\n",
      "i (interna) vale 1\n",
      "i (externa) vale 1\n",
      "i (interna) vale 0\n",
      "i (interna) vale 1\n",
      "i (externa) vale 2\n",
      "i (interna) vale 0\n",
      "i (interna) vale 1\n"
     ]
    }
   ],
   "source": [
    "for i in range(3):\n",
    "    print(f\"i (externa) vale {i}\")\n",
    "    for i in range(2):\n",
    "        print(f\"i (interna) vale {i}\")"
   ]
  },
  {
   "cell_type": "markdown",
   "metadata": {},
   "source": [
    "# Práctica:"
   ]
  },
  {
   "cell_type": "markdown",
   "metadata": {},
   "source": [
    "1) Escriba un programa que pida dos números enteros y escriba qué números son pares y cuáles impares desde el primero hasta el segundo.\n",
    "\n",
    "Pista: Utilice la clausula **IF** y recuerde los operadores lógicos y aritméticos que vimos en la clase 1"
   ]
  },
  {
   "cell_type": "code",
   "execution_count": 9,
   "metadata": {},
   "outputs": [
    {
     "name": "stdin",
     "output_type": "stream",
     "text": [
      "Escriba un nùmero entero:  4\n",
      "Escriba otro nùmero: 7\n"
     ]
    },
    {
     "name": "stdout",
     "output_type": "stream",
     "text": [
      "4 Es un nùmero par\n",
      "5 Es un nùmero impar\n",
      "6 Es un nùmero par\n"
     ]
    }
   ],
   "source": [
    "a = int(input(\"Escriba un nùmero entero: \"))\n",
    "b = int(input(\"Escriba otro nùmero:\"))\n",
    "\n",
    "for i in range(a,b):\n",
    "    if i % 2 == 0:\n",
    "        print(i,\"Es un nùmero par\")\n",
    "    \n",
    "    else:\n",
    "        print(i, \"Es un nùmero impar\")\n",
    "    \n"
   ]
  },
  {
   "cell_type": "markdown",
   "metadata": {},
   "source": [
    "2) Escriba un código que reciba un valor a (altura) y un valor l (largo). Por medio de for loops, imprima un rectangulo segun las medidas que se le ingresan\n",
    "Output esperado:\n",
    "        ********\n",
    "        *------*\n",
    "        *------*\n",
    "        *------*\n",
    "        ********"
   ]
  },
  {
   "cell_type": "code",
   "execution_count": null,
   "metadata": {},
   "outputs": [],
   "source": []
  }
 ],
 "metadata": {
  "kernelspec": {
   "display_name": "Python 3",
   "language": "python",
   "name": "python3"
  },
  "language_info": {
   "codemirror_mode": {
    "name": "ipython",
    "version": 3
   },
   "file_extension": ".py",
   "mimetype": "text/x-python",
   "name": "python",
   "nbconvert_exporter": "python",
   "pygments_lexer": "ipython3",
   "version": "3.8.5"
  }
 },
 "nbformat": 4,
 "nbformat_minor": 4
}
