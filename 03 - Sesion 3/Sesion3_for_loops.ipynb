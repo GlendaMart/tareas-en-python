{
 "cells": [
  {
   "cell_type": "markdown",
   "metadata": {},
   "source": [
    "# Iteraciones en Python\n",
    "Iterar significa realizar una acción varias veces. Cada vez que se repite se denomina iteración."
   ]
  },
  {
   "cell_type": "markdown",
   "metadata": {},
   "source": [
    "    -Existen varias formas de iterar\n",
    "    -Se itera sobre variables con muchos valores (listas, diccionarios, sets, etc)\n",
    "    "
   ]
  },
  {
   "cell_type": "markdown",
   "metadata": {},
   "source": [
    "Para Iterar es recomendable:"
   ]
  },
  {
   "cell_type": "markdown",
   "metadata": {},
   "source": [
    "    -Conocer el tipo de dato con el que se está trabajando\n",
    "    -Saber la razón del por qué ocupa iterar\n",
    "    -¿Qué queremos conseguir de cada iteración?"
   ]
  },
  {
   "cell_type": "markdown",
   "metadata": {},
   "source": [
    "# For loops\n",
    "\n",
    "Se traduce como \"para\". Recorre cada elemento de la lista de valores y ejecuta una acción hasta que termina con los valores de la lista.\n"
   ]
  },
  {
   "cell_type": "code",
   "execution_count": 1,
   "metadata": {},
   "outputs": [],
   "source": [
    "estrellas = [\"Deneb\",\"Alfa Centauri B\",\"Becrux\",\"Regulus\"]"
   ]
  },
  {
   "cell_type": "code",
   "execution_count": 3,
   "metadata": {},
   "outputs": [
    {
     "name": "stdout",
     "output_type": "stream",
     "text": [
      "Deneb\n",
      "Alfa Centauri B\n",
      "Becrux\n",
      "Regulus\n"
     ]
    }
   ],
   "source": [
    "for elemento in estrellas:  # Para [variable] en [lista]\n",
    "    print(elemento)"
   ]
  },
  {
   "cell_type": "code",
   "execution_count": 4,
   "metadata": {},
   "outputs": [
    {
     "data": {
      "text/plain": [
       "'Regulus'"
      ]
     },
     "execution_count": 4,
     "metadata": {},
     "output_type": "execute_result"
    }
   ],
   "source": [
    "estrellas[-1]"
   ]
  },
  {
   "cell_type": "code",
   "execution_count": 6,
   "metadata": {},
   "outputs": [
    {
     "name": "stdout",
     "output_type": "stream",
     "text": [
      "Deneb\n",
      "Alfa Centauri B\n",
      "Becrux\n",
      "Regulus\n"
     ]
    }
   ],
   "source": [
    "for i in estrellas:  # Para [variable] en [lista]\n",
    "    print(i)"
   ]
  },
  {
   "cell_type": "code",
   "execution_count": 11,
   "metadata": {},
   "outputs": [
    {
     "data": {
      "text/plain": [
       "'Regulus'"
      ]
     },
     "execution_count": 11,
     "metadata": {},
     "output_type": "execute_result"
    }
   ],
   "source": [
    "estrellas[-1]"
   ]
  },
  {
   "cell_type": "code",
   "execution_count": 12,
   "metadata": {},
   "outputs": [
    {
     "name": "stdout",
     "output_type": "stream",
     "text": [
      "A\n",
      "l\n",
      "f\n",
      "a\n",
      " \n",
      "C\n",
      "e\n",
      "n\n",
      "t\n",
      "a\n",
      "u\n",
      "r\n",
      "i\n",
      " \n",
      "B\n"
     ]
    }
   ],
   "source": [
    "for elemento in estrellas[1]:  # Para [variable] en [lista]\n",
    "    print(elemento)"
   ]
  },
  {
   "cell_type": "code",
   "execution_count": 13,
   "metadata": {},
   "outputs": [
    {
     "name": "stdout",
     "output_type": "stream",
     "text": [
      "D\n",
      "e\n",
      "n\n",
      "e\n",
      "b\n"
     ]
    }
   ],
   "source": [
    "for elemento in \"Deneb\":  # Para [variable] en [lista]\n",
    "    print(elemento)"
   ]
  },
  {
   "cell_type": "code",
   "execution_count": 14,
   "metadata": {},
   "outputs": [
    {
     "name": "stdout",
     "output_type": "stream",
     "text": [
      "DDDDDDDDDD\n",
      "eeeeeeeeee\n",
      "nnnnnnnnnn\n",
      "eeeeeeeeee\n",
      "bbbbbbbbbb\n"
     ]
    }
   ],
   "source": [
    "for elemento in \"Deneb\":  # Para [variable] en [lista]\n",
    "    print(elemento*10)"
   ]
  },
  {
   "cell_type": "markdown",
   "metadata": {},
   "source": [
    "break = Detiene el loop "
   ]
  },
  {
   "cell_type": "code",
   "execution_count": 15,
   "metadata": {},
   "outputs": [
    {
     "name": "stdout",
     "output_type": "stream",
     "text": [
      "Deneb\n",
      "Alfa Centauri B\n",
      "Becrux\n"
     ]
    }
   ],
   "source": [
    "##Clausula IF\n",
    "for x in estrellas:\n",
    "    print(x)\n",
    "    if x == \"Becrux\":\n",
    "        break"
   ]
  },
  {
   "cell_type": "code",
   "execution_count": 16,
   "metadata": {},
   "outputs": [
    {
     "name": "stdout",
     "output_type": "stream",
     "text": [
      "['Deneb', 'Alfa Centauri B', 'Becrux', 'Regulus']\n"
     ]
    }
   ],
   "source": [
    "print(estrellas)"
   ]
  },
  {
   "cell_type": "code",
   "execution_count": 17,
   "metadata": {},
   "outputs": [
    {
     "name": "stdout",
     "output_type": "stream",
     "text": [
      "Deneb\n",
      "Alfa Centauri B\n"
     ]
    }
   ],
   "source": [
    "for x in estrellas:\n",
    "    if x == \"Becrux\":\n",
    "        break\n",
    "    print(x)"
   ]
  },
  {
   "cell_type": "markdown",
   "metadata": {},
   "source": [
    "continue = Se salta el elemento"
   ]
  },
  {
   "cell_type": "code",
   "execution_count": 18,
   "metadata": {},
   "outputs": [
    {
     "name": "stdout",
     "output_type": "stream",
     "text": [
      "Deneb\n",
      "Becrux\n",
      "Regulus\n"
     ]
    }
   ],
   "source": [
    "for i in estrellas:\n",
    "    if i == \"Alfa Centauri B\":\n",
    "        continue\n",
    "    print(i)"
   ]
  },
  {
   "cell_type": "markdown",
   "metadata": {},
   "source": [
    "For loop en diccionarios"
   ]
  },
  {
   "cell_type": "code",
   "execution_count": 21,
   "metadata": {},
   "outputs": [],
   "source": [
    "estrellas = {\"Deneb\":\"Cygnus\",\"Alfa Centauri B\":\"Centaurus\",\"Becrux\":\"Crux Australis\",\"Regulus\":\"Leo\"}"
   ]
  },
  {
   "cell_type": "code",
   "execution_count": 22,
   "metadata": {},
   "outputs": [
    {
     "data": {
      "text/plain": [
       "<function dict.keys>"
      ]
     },
     "execution_count": 22,
     "metadata": {},
     "output_type": "execute_result"
    }
   ],
   "source": [
    "estrellas.keys"
   ]
  },
  {
   "cell_type": "code",
   "execution_count": 23,
   "metadata": {},
   "outputs": [
    {
     "data": {
      "text/plain": [
       "dict_keys(['Deneb', 'Alfa Centauri B', 'Becrux', 'Regulus'])"
      ]
     },
     "execution_count": 23,
     "metadata": {},
     "output_type": "execute_result"
    }
   ],
   "source": [
    "estrellas.keys()"
   ]
  },
  {
   "cell_type": "code",
   "execution_count": 26,
   "metadata": {},
   "outputs": [
    {
     "data": {
      "text/plain": [
       "dict_values(['Cygnus', 'Centaurus', 'Crux Australis', 'Leo'])"
      ]
     },
     "execution_count": 26,
     "metadata": {},
     "output_type": "execute_result"
    }
   ],
   "source": [
    "estrellas.values()"
   ]
  },
  {
   "cell_type": "code",
   "execution_count": 29,
   "metadata": {},
   "outputs": [
    {
     "ename": "TypeError",
     "evalue": "'builtin_function_or_method' object is not iterable",
     "output_type": "error",
     "traceback": [
      "\u001b[1;31m---------------------------------------------------------------------------\u001b[0m",
      "\u001b[1;31mTypeError\u001b[0m                                 Traceback (most recent call last)",
      "\u001b[1;32m<ipython-input-29-9cf923a20d37>\u001b[0m in \u001b[0;36m<module>\u001b[1;34m\u001b[0m\n\u001b[1;32m----> 1\u001b[1;33m \u001b[0mconstelaciones\u001b[0m \u001b[1;33m=\u001b[0m \u001b[0mlist\u001b[0m\u001b[1;33m(\u001b[0m\u001b[0mestrellas\u001b[0m\u001b[1;33m.\u001b[0m\u001b[0mvalues\u001b[0m\u001b[1;33m)\u001b[0m\u001b[1;33m\u001b[0m\u001b[1;33m\u001b[0m\u001b[0m\n\u001b[0m",
      "\u001b[1;31mTypeError\u001b[0m: 'builtin_function_or_method' object is not iterable"
     ]
    }
   ],
   "source": [
    "constelaciones = list(estrellas.values)"
   ]
  },
  {
   "cell_type": "code",
   "execution_count": 31,
   "metadata": {},
   "outputs": [
    {
     "name": "stdout",
     "output_type": "stream",
     "text": [
      "Cygnus\n",
      "Centaurus\n",
      "Crux Australis\n",
      "Leo\n"
     ]
    }
   ],
   "source": [
    "for constelacion in estrellas:\n",
    "    print(estrellas[constelacion])"
   ]
  },
  {
   "cell_type": "code",
   "execution_count": 33,
   "metadata": {},
   "outputs": [],
   "source": [
    "constelacion = []\n",
    "for item in estrellas:\n",
    "    constelacion.append(item) #se agrega cada elemento en una lista"
   ]
  },
  {
   "cell_type": "code",
   "execution_count": 34,
   "metadata": {},
   "outputs": [
    {
     "data": {
      "text/plain": [
       "['Deneb', 'Alfa Centauri B', 'Becrux', 'Regulus']"
      ]
     },
     "execution_count": 34,
     "metadata": {},
     "output_type": "execute_result"
    }
   ],
   "source": [
    "constelacion"
   ]
  },
  {
   "cell_type": "code",
   "execution_count": 35,
   "metadata": {},
   "outputs": [
    {
     "name": "stdout",
     "output_type": "stream",
     "text": [
      "Deneb - Cygnus\n",
      "Alfa Centauri B - Centaurus\n",
      "Becrux - Crux Australis\n",
      "Regulus - Leo\n"
     ]
    }
   ],
   "source": [
    "for key, value in estrellas.items():\n",
    "    print(key,\"-\", value)"
   ]
  },
  {
   "cell_type": "code",
   "execution_count": null,
   "metadata": {},
   "outputs": [],
   "source": []
  }
 ],
 "metadata": {
  "kernelspec": {
   "display_name": "Python 3",
   "language": "python",
   "name": "python3"
  },
  "language_info": {
   "codemirror_mode": {
    "name": "ipython",
    "version": 3
   },
   "file_extension": ".py",
   "mimetype": "text/x-python",
   "name": "python",
   "nbconvert_exporter": "python",
   "pygments_lexer": "ipython3",
   "version": "3.8.5"
  }
 },
 "nbformat": 4,
 "nbformat_minor": 4
}
