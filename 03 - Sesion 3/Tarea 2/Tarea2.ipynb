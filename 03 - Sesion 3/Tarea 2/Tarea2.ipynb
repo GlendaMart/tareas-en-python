{
 "cells": [
  {
   "cell_type": "markdown",
   "metadata": {},
   "source": [
    "# Semana 2 - Tarea 2"
   ]
  },
  {
   "cell_type": "markdown",
   "metadata": {},
   "source": [
    "## Primera parte"
   ]
  },
  {
   "cell_type": "markdown",
   "metadata": {},
   "source": [
    "1. Cree una nueva variable llamada `list_messier` y asigne los elementos `\"M1\", \"M200\", \"M17\", \"M31\",\"M87\", \"M104\"`. Imprima la lista completa utilizando `print()`."
   ]
  },
  {
   "cell_type": "code",
   "execution_count": 1,
   "metadata": {},
   "outputs": [
    {
     "name": "stdout",
     "output_type": "stream",
     "text": [
      "['M1', 'M200', 'M17', 'M31', 'M87', 'M104']\n"
     ]
    }
   ],
   "source": [
    "list_messier = [\"M1\", \"M200\", \"M17\", \"M31\", \"M87\", \"M104\"]\n",
    "print(list_messier)"
   ]
  },
  {
   "cell_type": "markdown",
   "metadata": {},
   "source": [
    "2. Agrege un nuevo elemento `\"M97\"` a la lista existente `list_messier` utilizando la función `.append()`"
   ]
  },
  {
   "cell_type": "code",
   "execution_count": 2,
   "metadata": {},
   "outputs": [
    {
     "data": {
      "text/plain": [
       "['M1', 'M200', 'M17', 'M31', 'M87', 'M104', 'M97']"
      ]
     },
     "execution_count": 2,
     "metadata": {},
     "output_type": "execute_result"
    }
   ],
   "source": [
    "list_messier.append(\"M97\")\n",
    "list_messier"
   ]
  },
  {
   "cell_type": "markdown",
   "metadata": {},
   "source": [
    "3. Retorne el tercer elemento de la lista utilizando indexado."
   ]
  },
  {
   "cell_type": "code",
   "execution_count": 3,
   "metadata": {},
   "outputs": [
    {
     "data": {
      "text/plain": [
       "'M17'"
      ]
     },
     "execution_count": 3,
     "metadata": {},
     "output_type": "execute_result"
    }
   ],
   "source": [
    "list_messier[2]\n"
   ]
  },
  {
   "cell_type": "markdown",
   "metadata": {},
   "source": [
    "4. Retorne el último elemento de la lista utilizando índices negativos."
   ]
  },
  {
   "cell_type": "code",
   "execution_count": 7,
   "metadata": {},
   "outputs": [
    {
     "data": {
      "text/plain": [
       "'M97'"
      ]
     },
     "execution_count": 7,
     "metadata": {},
     "output_type": "execute_result"
    }
   ],
   "source": [
    "list_messier[-1]"
   ]
  },
  {
   "cell_type": "markdown",
   "metadata": {},
   "source": [
    "5. Las listas también pueden retornar rangos de valores utilizando slicing. Retorne el segundo, tercero, y cuarto elemento."
   ]
  },
  {
   "cell_type": "code",
   "execution_count": 8,
   "metadata": {},
   "outputs": [
    {
     "data": {
      "text/plain": [
       "['M200', 'M17', 'M87']"
      ]
     },
     "execution_count": 8,
     "metadata": {},
     "output_type": "execute_result"
    }
   ],
   "source": [
    "list_messier[1:4]"
   ]
  },
  {
   "cell_type": "markdown",
   "metadata": {},
   "source": [
    "6. ¿Cuántos elementos tiene esta lista? Retorne el largo de la lista utilizando la función `len()`."
   ]
  },
  {
   "cell_type": "code",
   "execution_count": 9,
   "metadata": {},
   "outputs": [
    {
     "data": {
      "text/plain": [
       "6"
      ]
     },
     "execution_count": 9,
     "metadata": {},
     "output_type": "execute_result"
    }
   ],
   "source": [
    "len(list_messier)"
   ]
  },
  {
   "cell_type": "markdown",
   "metadata": {},
   "source": [
    "7. La palabra `in` se puede utilizar para saber si un elemento existe dentro de una lista. Utilice esta palabra junto a un condicional `if` e imprima la frase `\"M87 se encuentra en la lista\"`, si y solo si el elemento \"M87\" se encuentra dentro de esta lista."
   ]
  },
  {
   "cell_type": "code",
   "execution_count": 10,
   "metadata": {},
   "outputs": [
    {
     "name": "stdout",
     "output_type": "stream",
     "text": [
      "M87\n",
      "M87 se encuentra en la lista\n"
     ]
    }
   ],
   "source": [
    "for x in list_messier:\n",
    "    if x == \"M87\":\n",
    "        print(x)\n",
    "        print(\"M87 se encuentra en la lista\")"
   ]
  },
  {
   "cell_type": "markdown",
   "metadata": {},
   "source": [
    "8. El elemento \"M200\" no es un objeto real del catálogo de Messier. Cambie el elemento \"M200\" por el elemento \"NGC 205\"."
   ]
  },
  {
   "cell_type": "code",
   "execution_count": 30,
   "metadata": {},
   "outputs": [
    {
     "ename": "NameError",
     "evalue": "name 'list_messier' is not defined",
     "output_type": "error",
     "traceback": [
      "\u001b[1;31m---------------------------------------------------------------------------\u001b[0m",
      "\u001b[1;31mNameError\u001b[0m                                 Traceback (most recent call last)",
      "\u001b[1;32m<ipython-input-30-b6744517a12b>\u001b[0m in \u001b[0;36m<module>\u001b[1;34m\u001b[0m\n\u001b[1;32m----> 1\u001b[1;33m \u001b[0mlist_messier\u001b[0m\u001b[1;33m[\u001b[0m\u001b[1;36m1\u001b[0m\u001b[1;33m:\u001b[0m\u001b[1;36m2\u001b[0m\u001b[1;33m]\u001b[0m\u001b[1;33m\u001b[0m\u001b[1;33m\u001b[0m\u001b[0m\n\u001b[0m\u001b[0;32m      2\u001b[0m \u001b[0mlist_messier\u001b[0m\u001b[1;33m\u001b[0m\u001b[1;33m\u001b[0m\u001b[0m\n",
      "\u001b[1;31mNameError\u001b[0m: name 'list_messier' is not defined"
     ]
    }
   ],
   "source": [
    "list_messier[1:2]\n",
    "list_messier"
   ]
  },
  {
   "cell_type": "markdown",
   "metadata": {},
   "source": [
    "9. Inserte el valor \"M7\" entre los elementos \"M1\" y \"NGC 205\" utilizando la función `´.insert()`. Imprima la lista completa."
   ]
  },
  {
   "cell_type": "code",
   "execution_count": 12,
   "metadata": {},
   "outputs": [
    {
     "data": {
      "text/plain": [
       "['M1', 'M7', 'M200', 'M17', 'M87', 'M104', 'M97']"
      ]
     },
     "execution_count": 12,
     "metadata": {},
     "output_type": "execute_result"
    }
   ],
   "source": [
    "list_messier.insert(1,\"M7\")\n",
    "list_messier"
   ]
  },
  {
   "cell_type": "markdown",
   "metadata": {},
   "source": [
    "10. Borre el elemento \"M31\" de la lista, utilizando la función `remove()`. Imprima la lista completa."
   ]
  },
  {
   "cell_type": "code",
   "execution_count": 29,
   "metadata": {},
   "outputs": [
    {
     "ename": "NameError",
     "evalue": "name 'list_messier' is not defined",
     "output_type": "error",
     "traceback": [
      "\u001b[1;31m---------------------------------------------------------------------------\u001b[0m",
      "\u001b[1;31mNameError\u001b[0m                                 Traceback (most recent call last)",
      "\u001b[1;32m<ipython-input-29-0545674b7d8d>\u001b[0m in \u001b[0;36m<module>\u001b[1;34m\u001b[0m\n\u001b[1;32m----> 1\u001b[1;33m \u001b[0mlist_messier\u001b[0m\u001b[1;33m.\u001b[0m\u001b[0mremove\u001b[0m\u001b[1;33m(\u001b[0m\u001b[1;34m\"M31\"\u001b[0m\u001b[1;33m)\u001b[0m\u001b[1;33m\u001b[0m\u001b[1;33m\u001b[0m\u001b[0m\n\u001b[0m\u001b[0;32m      2\u001b[0m \u001b[0mlist_messier\u001b[0m\u001b[1;33m\u001b[0m\u001b[1;33m\u001b[0m\u001b[0m\n",
      "\u001b[1;31mNameError\u001b[0m: name 'list_messier' is not defined"
     ]
    }
   ],
   "source": [
    "list_messier.remove(\"M31\")\n",
    "list_messier"
   ]
  },
  {
   "cell_type": "markdown",
   "metadata": {},
   "source": [
    "11. Borre el primer elemento de la lista, en el índice 0 utilizando la función `.pop()`. Imprima la lista completa."
   ]
  },
  {
   "cell_type": "code",
   "execution_count": 14,
   "metadata": {},
   "outputs": [
    {
     "data": {
      "text/plain": [
       "'M1'"
      ]
     },
     "execution_count": 14,
     "metadata": {},
     "output_type": "execute_result"
    }
   ],
   "source": [
    "a = list_messier.pop(0)\n",
    "a"
   ]
  },
  {
   "cell_type": "code",
   "execution_count": 15,
   "metadata": {},
   "outputs": [
    {
     "data": {
      "text/plain": [
       "['M7', 'M200', 'M17', 'M87', 'M104', 'M97']"
      ]
     },
     "execution_count": 15,
     "metadata": {},
     "output_type": "execute_result"
    }
   ],
   "source": [
    "list_messier"
   ]
  },
  {
   "cell_type": "markdown",
   "metadata": {},
   "source": [
    "12. Borre el penúltimo elemento de la lista utilizando la palabra clave `del` e.g. `del mi_lista[indice_a_borrar]`."
   ]
  },
  {
   "cell_type": "code",
   "execution_count": 16,
   "metadata": {},
   "outputs": [],
   "source": [
    "del list_messier[-2]"
   ]
  },
  {
   "cell_type": "code",
   "execution_count": 17,
   "metadata": {},
   "outputs": [
    {
     "data": {
      "text/plain": [
       "['M7', 'M200', 'M17', 'M87', 'M97']"
      ]
     },
     "execution_count": 17,
     "metadata": {},
     "output_type": "execute_result"
    }
   ],
   "source": [
    "list_messier"
   ]
  },
  {
   "cell_type": "markdown",
   "metadata": {},
   "source": [
    "13. Elimine todos los elementos de la lista `list_messier` utilizando la función clear. ¿La lista aún existe? ¿Cómo podemos borrar la lista por completo?"
   ]
  },
  {
   "cell_type": "code",
   "execution_count": 18,
   "metadata": {},
   "outputs": [
    {
     "data": {
      "text/plain": [
       "[]"
      ]
     },
     "execution_count": 18,
     "metadata": {},
     "output_type": "execute_result"
    }
   ],
   "source": [
    "list_messier.clear()\n",
    "list_messier"
   ]
  },
  {
   "cell_type": "markdown",
   "metadata": {},
   "source": [
    "14. Borre la lista `list_messier` por completo utilizando la palabra clave `del`. ¿Qué pasa si intentamos llamar a la lista?\n"
   ]
  },
  {
   "cell_type": "code",
   "execution_count": 19,
   "metadata": {},
   "outputs": [],
   "source": [
    "del list_messier"
   ]
  },
  {
   "cell_type": "markdown",
   "metadata": {},
   "source": [
    "## Segunda parte"
   ]
  },
  {
   "cell_type": "markdown",
   "metadata": {},
   "source": [
    "1. La siguiente tabla presenta una tabla con las masas de los planetas del sistema solar.\n",
    "\n",
    "| Planeta | Masa en kg |\n",
    "| --- | --- |\n",
    "| Mercurio | 3.302e23 |\n",
    "| Venus | 4.8690e24 |\n",
    "| Tierra | 5.9742e24 |\n",
    "| Marte | 6.4191e23 |\n",
    "| Júpiter | 1.8987e27 |\n",
    "| Saturno | 5.6851e26 |\n",
    "| Urano | 8.6849e25 |\n",
    "| Neptuno | 1.0244e26 |"
   ]
  },
  {
   "cell_type": "markdown",
   "metadata": {},
   "source": [
    "- Cree una nueva lista llamada `list_masas` y agregue todas las masas en la tabla, utilizando notación científica."
   ]
  },
  {
   "cell_type": "code",
   "execution_count": 20,
   "metadata": {},
   "outputs": [
    {
     "data": {
      "text/plain": [
       "[3.302e+23,\n",
       " 4.869e+24,\n",
       " 5.9742e+24,\n",
       " 6.4191e+23,\n",
       " 1.8987e+27,\n",
       " 5.6851e+26,\n",
       " 8.6849e+25,\n",
       " 1.0244e+26]"
      ]
     },
     "execution_count": 20,
     "metadata": {},
     "output_type": "execute_result"
    }
   ],
   "source": [
    "list_masas = [3.302e23,  4.8690e24, 5.9742e24, 6.4191e23, 1.8987e27, 5.6851e26, 8.6849e25,  1.0244e26 ]\n",
    "list_masas"
   ]
  },
  {
   "cell_type": "markdown",
   "metadata": {},
   "source": [
    "- ¿Cuál es el valor máximo en la lista? ¿Cuál es el valor mínimo? Utilice las funciones `max()` y `min()` para retornar ambos valores."
   ]
  },
  {
   "cell_type": "code",
   "execution_count": 21,
   "metadata": {},
   "outputs": [
    {
     "data": {
      "text/plain": [
       "1.8987e+27"
      ]
     },
     "execution_count": 21,
     "metadata": {},
     "output_type": "execute_result"
    }
   ],
   "source": [
    "max(list_masas)"
   ]
  },
  {
   "cell_type": "code",
   "execution_count": 22,
   "metadata": {},
   "outputs": [
    {
     "data": {
      "text/plain": [
       "3.302e+23"
      ]
     },
     "execution_count": 22,
     "metadata": {},
     "output_type": "execute_result"
    }
   ],
   "source": [
    "min(list_masas)"
   ]
  },
  {
   "cell_type": "markdown",
   "metadata": {},
   "source": [
    "- Sume todos los valores de la lista utilizando la función `sum()` ¿Cuál es el total de la masa de los planetas?"
   ]
  },
  {
   "cell_type": "code",
   "execution_count": 23,
   "metadata": {},
   "outputs": [
    {
     "data": {
      "text/plain": [
       "2.66831431e+27"
      ]
     },
     "execution_count": 23,
     "metadata": {},
     "output_type": "execute_result"
    }
   ],
   "source": [
    "total_m = sum(list_masas)\n",
    "total_m"
   ]
  },
  {
   "cell_type": "markdown",
   "metadata": {},
   "source": [
    "- Confirme su respuesta anterior iterando sobre la lista y sumando sus valores: utilizando un `for` junto a un `in` y utilizando una variable de ayuda `total_masas` sume el total de las masas en la lista. Imprima el total de las masas."
   ]
  },
  {
   "cell_type": "code",
   "execution_count": 24,
   "metadata": {},
   "outputs": [
    {
     "name": "stdout",
     "output_type": "stream",
     "text": [
      "El numero de masas es 8\n"
     ]
    }
   ],
   "source": [
    "list_masas = [3.302e23,  4.8690e24, 5.9742e24, 6.4191e23, 1.8987e27, 5.6851e26, 8.6849e25,  1.0244e26 ]\n",
    "    \n",
    "total_masas = 0\n",
    "\n",
    "for x in list_masas:\n",
    "    total_masas += 1\n",
    "print(\"El numero de masas es\", total_masas)\n",
    " "
   ]
  },
  {
   "cell_type": "markdown",
   "metadata": {},
   "source": [
    "- Una masa solar equivale a 2e30 kg ¿A qué porcentaje de la masa del Sol equivale el total de la sumatoria de la masa de los planetas? Imprima el resultado."
   ]
  },
  {
   "cell_type": "code",
   "execution_count": 31,
   "metadata": {},
   "outputs": [
    {
     "name": "stdout",
     "output_type": "stream",
     "text": [
      "El porcentaje es 0.1334157155 %\n"
     ]
    }
   ],
   "source": [
    "masa_solar = 2e30\n",
    "\n",
    "porcent = total_m/masa_solar\n",
    "\n",
    "porcent = (porcent*100)\n",
    "print(\"El porcentaje es\", porcent, \"%\")\n"
   ]
  },
  {
   "cell_type": "markdown",
   "metadata": {},
   "source": [
    "2. Cree un nuevo diccionario llamado `dic_masas` que contenga el nombre del planeta y su masa, de la forma `\"Mercurio\" : 3,302e23`. Imprima cada elemento en el diccionario utilizando un `for` loop."
   ]
  },
  {
   "cell_type": "code",
   "execution_count": 32,
   "metadata": {},
   "outputs": [
    {
     "name": "stdout",
     "output_type": "stream",
     "text": [
      "('Mercurio', 3.302e+23)\n"
     ]
    }
   ],
   "source": [
    "dic_masas = {\"Mercurio\": 3.302e23}\n",
    "\n",
    "for i in dic_masas.items(): \n",
    "    print(i)"
   ]
  },
  {
   "cell_type": "markdown",
   "metadata": {},
   "source": [
    "3. Imprima cada elemento dentro del `dic_masas` utilizando un `while` loop."
   ]
  },
  {
   "cell_type": "code",
   "execution_count": 33,
   "metadata": {},
   "outputs": [
    {
     "name": "stdout",
     "output_type": "stream",
     "text": [
      "Mercurio\n",
      "3,302e23\n"
     ]
    }
   ],
   "source": [
    "dic_masas =  {\"Mercurio\", \"3,302e23\"}\n",
    "\n",
    " \n",
    "while dic_masas:\n",
    "    masa = dic_masas.pop()\n",
    "    print(masa)"
   ]
  },
  {
   "cell_type": "markdown",
   "metadata": {},
   "source": [
    "4. Utilizando un `for` o `while` loop imprima la división  de la masa del planeta entre `1_masa_solar * 100`, e.g. `masa_planeta/masa_solar *100`"
   ]
  },
  {
   "cell_type": "code",
   "execution_count": 38,
   "metadata": {},
   "outputs": [
    {
     "name": "stdout",
     "output_type": "stream",
     "text": [
      "1.0244e+26 %\n",
      "8.6849e+25 %\n",
      "5.6851e+26 %\n",
      "1.8987e+27 %\n",
      "6.4191e+23 %\n",
      "5.9742e+24 %\n",
      "4.869e+24 %\n",
      "3.302e+23 %\n"
     ]
    }
   ],
   "source": [
    "list_masas = [3.302e23,  4.8690e24, 5.9742e24, 6.4191e23, 1.8987e27, 5.6851e26, 8.6849e25,  1.0244e26 ]\n",
    "masa_solar = 2e30\n",
    "\n",
    "while list_masas:\n",
    "    for i in list_masas:\n",
    "        masasolarx = (i / masa_solar) *100\n",
    "    masasolarx = list_masas.pop()\n",
    "    print(masasolarx, \"%\")\n",
    "    "
   ]
  },
  {
   "cell_type": "markdown",
   "metadata": {},
   "source": [
    "5. Utilizando un `for` o `while` loop sume todas las masas de los planetas, imprima una variable llamada `masa_total` para guardar el resultado."
   ]
  },
  {
   "cell_type": "code",
   "execution_count": null,
   "metadata": {},
   "outputs": [],
   "source": [
    "list_masas = [3.302e23,  4.8690e24, 5.9742e24, 6.4191e23, 1.8987e27, 5.6851e26, 8.6849e25,  1.0244e26 ]\n",
    "    \n",
    "def total_masas(list_masas):\n",
    "    suma = 0\n",
    "\n",
    "    for numero in list_masas:\n",
    "        suma += numero\n",
    "    \n",
    "    return suma\n",
    "print(\"La masa total de los planetras es\", total_masas(list_masas), \"kg\")"
   ]
  },
  {
   "cell_type": "markdown",
   "metadata": {},
   "source": [
    "6. Guarde el resultado del total de masas en un archivo .txt utilizando Python."
   ]
  },
  {
   "cell_type": "code",
   "execution_count": null,
   "metadata": {},
   "outputs": [],
   "source": [
    "data = open('Tarea2.txt', 'w')"
   ]
  },
  {
   "cell_type": "code",
   "execution_count": null,
   "metadata": {},
   "outputs": [],
   "source": [
    "data.write('loquesea')"
   ]
  },
  {
   "cell_type": "code",
   "execution_count": null,
   "metadata": {},
   "outputs": [],
   "source": []
  },
  {
   "cell_type": "code",
   "execution_count": null,
   "metadata": {},
   "outputs": [],
   "source": []
  }
 ],
 "metadata": {
  "kernelspec": {
   "display_name": "Python 3",
   "language": "python",
   "name": "python3"
  },
  "language_info": {
   "codemirror_mode": {
    "name": "ipython",
    "version": 3
   },
   "file_extension": ".py",
   "mimetype": "text/x-python",
   "name": "python",
   "nbconvert_exporter": "python",
   "pygments_lexer": "ipython3",
   "version": "3.8.5"
  }
 },
 "nbformat": 4,
 "nbformat_minor": 4
}
