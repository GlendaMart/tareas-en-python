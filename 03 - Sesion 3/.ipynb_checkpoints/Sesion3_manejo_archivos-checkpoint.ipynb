{
 "cells": [
  {
   "cell_type": "markdown",
   "metadata": {},
   "source": [
    "# Sesión 3 - Lectura y escritura en archivos\n",
    "\n",
    "Python nos permite leer y escribir a archivos de diferentes tipos.\n",
    "\n",
    "Veamos cómo leer y escribir a archivos .txt\n",
    "\n",
    "Python nos presenta con la función open(), esta tiene diferentes métodos\n",
    "\n",
    "\n",
    "'r' - read, abre el archivo, devuelve un error si no existe\n",
    "'a' - append, abre el archivo para escribir al final del archivo (no sobreescribe)\n",
    "'w' - write, escribe sobre el archivo, crea un archivo nuevo si no existe\n",
    "'x' - create, crea un archivo nuevo, retorna un error si el archivo ya existe"
   ]
  },
  {
   "cell_type": "code",
   "execution_count": 5,
   "metadata": {},
   "outputs": [],
   "source": [
    "data = open('planetary_data.txt')"
   ]
  },
  {
   "cell_type": "code",
   "execution_count": 2,
   "metadata": {},
   "outputs": [
    {
     "data": {
      "text/plain": [
       "<_io.TextIOWrapper name='planetary_data.txt' mode='r' encoding='cp1252'>"
      ]
     },
     "execution_count": 2,
     "metadata": {},
     "output_type": "execute_result"
    }
   ],
   "source": [
    "data"
   ]
  },
  {
   "cell_type": "code",
   "execution_count": 6,
   "metadata": {},
   "outputs": [
    {
     "data": {
      "text/plain": [
       "\"Mercury,\\tVenus,\\tEarth,\\tMars,\\tJupiter\\t\\nMean distance from Sun (millions of kilometers),\\t57.9,\\t108.2,\\t149.6,\\t227.9,\\t778.3\\n\\t\\t\\t\\t\\t\\nMean distance from Sun\\t36\\t67.24\\t92.9\\t141.71\\t483.88\\t\\t\\t\\t\\t\\t\\nPeriod of revolution\\t88 days\\t224.7 days\\t365.2 days\\t687 days\\t11.86 yrs\\nInclination of axis\\tNear 0Â°\\t3Â°\\t23Â°27'\\t25Â° 12'\\t3Â° 5'\\nInclination of orbit\\t7Â°\\t3.4Â°\\t0Â°\\t1.9Â°\\t1.3Â°\\t\\t\\t\\t\\t\\nEccentricity of orbit\\t0.206\\t0.007\\t0.017\\t0.093\\t0.048\\nEquatorial diameter\\t4.880,\\t12.100,\\t12.756,\\t6.794,\\t142.800\\t\\t\\t\\t\\t\\nAtmosphere (main components),\\tVirtually none,\\tCarbon dioxideNitrogenOxygen\\tCarbon dioxide,\\tHydrogen, helium\\t\\t\\t\\t\\t\""
      ]
     },
     "execution_count": 6,
     "metadata": {},
     "output_type": "execute_result"
    }
   ],
   "source": [
    "data.read()"
   ]
  },
  {
   "cell_type": "code",
   "execution_count": 7,
   "metadata": {},
   "outputs": [
    {
     "data": {
      "text/plain": [
       "'Mercury,\\tV'"
      ]
     },
     "execution_count": 7,
     "metadata": {},
     "output_type": "execute_result"
    }
   ],
   "source": [
    "# leer los primeros 10 caracteres\n",
    "data = open('planetary_data.txt')\n",
    "data.read(10)"
   ]
  },
  {
   "cell_type": "code",
   "execution_count": 12,
   "metadata": {},
   "outputs": [
    {
     "data": {
      "text/plain": [
       "'Mercury,\\tVenus,\\tEarth,\\tMars,\\tJupiter\\t\\n'"
      ]
     },
     "execution_count": 12,
     "metadata": {},
     "output_type": "execute_result"
    }
   ],
   "source": [
    "# Leer lineas\n",
    "data = open('planetary_data.txt')\n",
    "data.readline()"
   ]
  },
  {
   "cell_type": "code",
   "execution_count": 13,
   "metadata": {},
   "outputs": [
    {
     "name": "stdout",
     "output_type": "stream",
     "text": [
      "Mercury,\tVenus,\tEarth,\tMars,\tJupiter\t\n",
      "\n",
      "Mean distance from Sun (millions of kilometers),\t57.9,\t108.2,\t149.6,\t227.9,\t778.3\n",
      "\n",
      "\t\t\t\t\t\n",
      "\n",
      "Mean distance from Sun\t36\t67.24\t92.9\t141.71\t483.88\t\t\t\t\t\t\n",
      "\n",
      "Period of revolution\t88 days\t224.7 days\t365.2 days\t687 days\t11.86 yrs\n",
      "\n",
      "Inclination of axis\tNear 0Â°\t3Â°\t23Â°27'\t25Â° 12'\t3Â° 5'\n",
      "\n",
      "Inclination of orbit\t7Â°\t3.4Â°\t0Â°\t1.9Â°\t1.3Â°\t\t\t\t\t\n",
      "\n",
      "Eccentricity of orbit\t0.206\t0.007\t0.017\t0.093\t0.048\n",
      "\n",
      "Equatorial diameter\t4.880,\t12.100,\t12.756,\t6.794,\t142.800\t\t\t\t\t\n",
      "\n",
      "Atmosphere (main components),\tVirtually none,\tCarbon dioxideNitrogenOxygen\tCarbon dioxide,\tHydrogen, helium\t\t\t\t\t\n"
     ]
    }
   ],
   "source": [
    "# leer linea por linea\n",
    "\n",
    "data = open('planetary_data.txt')\n",
    "for x in data:\n",
    "    print(x)"
   ]
  },
  {
   "cell_type": "code",
   "execution_count": 14,
   "metadata": {},
   "outputs": [],
   "source": [
    "data.close()"
   ]
  },
  {
   "cell_type": "code",
   "execution_count": 15,
   "metadata": {},
   "outputs": [
    {
     "data": {
      "text/plain": [
       "'Body, Radius (km), Mass (10e21 kg), Density (g/cm3), Gravity (m/s2)\\nMercury, 2439.4, 60.83, 330.11, 5.4291, 3.70\\nVenus,\\t6052, 928.43, 4867.5, 5.243, 8.87\\nEarth,\\t6371.0084, 1083.21, 5972.4, 5.5136, 9.8\\t\\nMars, 3389.5, 163.18, 641.71, 3.9341, 3.71\\nJupiter, 69911, 1431280, 1898187, 1.3262, 24.79'"
      ]
     },
     "execution_count": 15,
     "metadata": {},
     "output_type": "execute_result"
    }
   ],
   "source": [
    "# Veamos otro archivo de texto \n",
    "\n",
    "planets = open('planetary_data_2.txt')\n",
    "planets.read()"
   ]
  },
  {
   "cell_type": "code",
   "execution_count": 30,
   "metadata": {},
   "outputs": [
    {
     "name": "stdout",
     "output_type": "stream",
     "text": [
      "['Body', ' Radius (km)', ' Mass (10e21 kg)', ' Density (g/cm3)', ' Gravity (m/s2)\\n']\n",
      "Body, Radius (km), Mass (10e21 kg), Density (g/cm3), Gravity (m/s2)\n",
      "['Mercury', ' 2439.4', ' 60.83', ' 330.11', ' 5.4291', ' 3.70\\n']\n",
      "Mercury, 2439.4, 60.83, 330.11, 5.4291, 3.70\n",
      "['Venus', '\\t6052', ' 928.43', ' 4867.5', ' 5.243', ' 8.87\\n']\n",
      "Venus,\t6052, 928.43, 4867.5, 5.243, 8.87\n",
      "['Earth', '\\t6371.0084', ' 1083.21', ' 5972.4', ' 5.5136', ' 9.8\\t\\n']\n",
      "Earth,\t6371.0084, 1083.21, 5972.4, 5.5136, 9.8\n",
      "['Mars', ' 3389.5', ' 163.18', ' 641.71', ' 3.9341', ' 3.71\\n']\n",
      "Mars, 3389.5, 163.18, 641.71, 3.9341, 3.71\n",
      "['Jupiter', ' 69911', ' 1431280', ' 1898187', ' 1.3262', ' 24.79']\n",
      "Jupiter, 69911, 1431280, 1898187, 1.3262, 24.79\n"
     ]
    }
   ],
   "source": [
    "bodies = []\n",
    "radii = []\n",
    "\n",
    "planets = open('planetary_data_2.txt')\n",
    "\n",
    "for line in planets:\n",
    "    splitLine = line.split(',')\n",
    "    print(splitLine)\n",
    "    print(line.strip())\n",
    "    bodies.append(splitLine[0])\n",
    "    radii.append(splitLine[1])\n",
    "#bodies"
   ]
  },
  {
   "cell_type": "markdown",
   "metadata": {},
   "source": [
    "## Ejercicio - 7 minutos\n",
    "\n",
    "Sume todas las masas de los planetas que se encuentran en el archivo planetary_data_2.txt"
   ]
  },
  {
   "cell_type": "markdown",
   "metadata": {},
   "source": [
    "## Ejercicio - 7 minutos\n",
    "\n",
    "Cree un programa que lea los datos de los planetas desde el archivo de texto planetary_data_2.txt y cree una variable de tipo lista para cada planeta.\n",
    "\n",
    "Escriba un script que reciba un número entero del usuario, utilizando input() y regrese los datos de uno de los planetas en la lista."
   ]
  },
  {
   "cell_type": "markdown",
   "metadata": {},
   "source": [
    "## Escribir a un archivo existente\n",
    "\n",
    "Utilizando la opción 'a' y 'w' para append y escribir"
   ]
  },
  {
   "cell_type": "code",
   "execution_count": 25,
   "metadata": {},
   "outputs": [],
   "source": [
    "datos = open('append.txt', 'a')\n",
    "datos.write('Este contenido esta unido a lo que ya existe')\n",
    "datos.close()"
   ]
  },
  {
   "cell_type": "code",
   "execution_count": 26,
   "metadata": {},
   "outputs": [
    {
     "data": {
      "text/plain": [
       "'Este contenido esta unido a lo que ya existeEste contenido esta unido a lo que ya existe'"
      ]
     },
     "execution_count": 26,
     "metadata": {},
     "output_type": "execute_result"
    }
   ],
   "source": [
    "datos = open('append.txt', 'r')\n",
    "datos.read()"
   ]
  },
  {
   "cell_type": "code",
   "execution_count": 28,
   "metadata": {},
   "outputs": [
    {
     "data": {
      "text/plain": [
       "24"
      ]
     },
     "execution_count": 28,
     "metadata": {},
     "output_type": "execute_result"
    }
   ],
   "source": [
    "datos = open('append.txt', 'w')\n",
    "datos.write('Sobreescribir contenidos')"
   ]
  },
  {
   "cell_type": "code",
   "execution_count": 30,
   "metadata": {},
   "outputs": [
    {
     "data": {
      "text/plain": [
       "'Sobreescribir contenidos'"
      ]
     },
     "execution_count": 30,
     "metadata": {},
     "output_type": "execute_result"
    }
   ],
   "source": [
    "datos = open('append.txt', 'r')\n",
    "datos.read()"
   ]
  },
  {
   "cell_type": "code",
   "execution_count": 31,
   "metadata": {},
   "outputs": [],
   "source": [
    "datos.close()"
   ]
  },
  {
   "cell_type": "markdown",
   "metadata": {},
   "source": [
    "## Ejercicio 1 - 10 minutos\n",
    "\n",
    "Escriba un código que imprima los números del 1 al 100, línea por línea, a un archivo de texto."
   ]
  }
 ],
 "metadata": {
  "kernelspec": {
   "display_name": "Python 3",
   "language": "python",
   "name": "python3"
  },
  "language_info": {
   "codemirror_mode": {
    "name": "ipython",
    "version": 3
   },
   "file_extension": ".py",
   "mimetype": "text/x-python",
   "name": "python",
   "nbconvert_exporter": "python",
   "pygments_lexer": "ipython3",
   "version": "3.8.5"
  }
 },
 "nbformat": 4,
 "nbformat_minor": 4
}
