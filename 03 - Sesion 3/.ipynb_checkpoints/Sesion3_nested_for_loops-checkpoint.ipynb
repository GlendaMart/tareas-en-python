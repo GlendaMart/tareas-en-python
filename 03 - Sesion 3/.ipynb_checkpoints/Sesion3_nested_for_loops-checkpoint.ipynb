{
 "cells": [
  {
   "cell_type": "markdown",
   "metadata": {},
   "source": [
    "# For anidado (nested)\n",
    "\n",
    "¿Un for dentro de un for?"
   ]
  },
  {
   "cell_type": "markdown",
   "metadata": {},
   "source": [
    "El \"bucle interno\" se ejecutará una vez por cada iteración del \"bucle externo\":"
   ]
  },
  {
   "cell_type": "code",
   "execution_count": 1,
   "metadata": {},
   "outputs": [
    {
     "name": "stdout",
     "output_type": "stream",
     "text": [
      "a 1\n",
      "a 2\n",
      "a 3\n",
      "b 1\n",
      "b 2\n",
      "b 3\n",
      "c 1\n",
      "c 2\n",
      "c 3\n"
     ]
    }
   ],
   "source": [
    "lista1 = [\"a\", \"b\", \"c\"]\n",
    "lista2 = [\"1\", \"2\", \"3\"]\n",
    "\n",
    "for x in lista1:\n",
    "    for y in lista2:\n",
    "        print(x, y)"
   ]
  },
  {
   "cell_type": "markdown",
   "metadata": {},
   "source": [
    "Los bucles pueden tener cualquier nivel de anidamiento (un bucle dentro de otro bucle dentro de un tercero, etc.).\n",
    "\n",
    "Aunque en Python no es necesario, se recomienda que los nombres de las variables de control de los bucles anidados no coincidan, para evitar ambigüedades."
   ]
  },
  {
   "cell_type": "markdown",
   "metadata": {},
   "source": [
    "**Función range():**\n",
    "\n",
    "La función range () devuelve una secuencia de números, comenzando desde 0 de forma predeterminada, se incrementa en 1 (de forma predeterminada) y se detiene antes de un número especificado."
   ]
  },
  {
   "cell_type": "markdown",
   "metadata": {},
   "source": [
    "**range(start, stop, step)**\n",
    "\n",
    "    start: Opcional. Un número entero que especifica en qué posición comenzar. El valor predeterminado es 0\n",
    "    stop:  Obligatorio. Un número entero que especifica en qué posición detenerse (no incluido).\n",
    "    step: Opcional. Un número entero que especifica el incremento. El valor predeterminado es 1"
   ]
  },
  {
   "cell_type": "code",
<<<<<<< HEAD
   "execution_count": 2,
   "metadata": {},
   "outputs": [
    {
     "name": "stdout",
     "output_type": "stream",
     "text": [
      "3\n",
      "4\n",
      "5\n"
     ]
    }
   ],
=======
   "execution_count": null,
   "metadata": {},
   "outputs": [],
>>>>>>> 25f01f8060d79cf52748e04aedef624da637cec4
   "source": [
    "x = range(3, 6)\n",
    "for n in x:\n",
    "    print(n)"
   ]
  },
  {
   "cell_type": "code",
<<<<<<< HEAD
   "execution_count": 3,
   "metadata": {},
   "outputs": [
    {
     "name": "stdout",
     "output_type": "stream",
     "text": [
      "i (externa) vale 0\n",
      "i (interna) vale 0\n",
      "i (interna) vale 1\n",
      "i (externa) vale 1\n",
      "i (interna) vale 0\n",
      "i (interna) vale 1\n",
      "i (externa) vale 2\n",
      "i (interna) vale 0\n",
      "i (interna) vale 1\n"
     ]
    }
   ],
=======
   "execution_count": null,
   "metadata": {},
   "outputs": [],
>>>>>>> 25f01f8060d79cf52748e04aedef624da637cec4
   "source": [
    "for i in range(3):\n",
    "    print(f\"i (externa) vale {i}\")\n",
    "    for i in range(2):\n",
    "        print(f\"i (interna) vale {i}\")"
   ]
  },
  {
   "cell_type": "markdown",
   "metadata": {},
   "source": [
    "# Práctica:"
   ]
  },
  {
   "cell_type": "markdown",
   "metadata": {},
   "source": [
    "1) Escriba un programa que pida dos números enteros y escriba qué números son pares y cuáles impares desde el primero hasta el segundo.\n",
    "\n",
    "Pista: Utilice la clausula **IF** y recuerde los operadores lógicos y aritméticos que vimos en la clase 1"
   ]
  },
  {
   "cell_type": "code",
<<<<<<< HEAD
   "execution_count": 8,
   "metadata": {},
   "outputs": [
    {
     "ename": "NameError",
     "evalue": "name 'imput' is not defined",
     "output_type": "error",
     "traceback": [
      "\u001b[1;31m---------------------------------------------------------------------------\u001b[0m",
      "\u001b[1;31mNameError\u001b[0m                                 Traceback (most recent call last)",
      "\u001b[1;32m<ipython-input-8-ded6f3483414>\u001b[0m in \u001b[0;36m<module>\u001b[1;34m\u001b[0m\n\u001b[1;32m----> 1\u001b[1;33m \u001b[0ma\u001b[0m \u001b[1;33m=\u001b[0m \u001b[0mint\u001b[0m\u001b[1;33m(\u001b[0m\u001b[0mimput\u001b[0m\u001b[1;33m(\u001b[0m\u001b[1;34m\"Escriba un nùmero entero: \"\u001b[0m\u001b[1;33m)\u001b[0m\u001b[1;33m)\u001b[0m\u001b[1;33m\u001b[0m\u001b[1;33m\u001b[0m\u001b[0m\n\u001b[0m\u001b[0;32m      2\u001b[0m \u001b[0mb\u001b[0m \u001b[1;33m=\u001b[0m \u001b[0mint\u001b[0m\u001b[1;33m(\u001b[0m\u001b[0mimput\u001b[0m\u001b[1;33m(\u001b[0m\u001b[1;34m\"Escriba otro nùmero:\"\u001b[0m\u001b[1;33m)\u001b[0m\u001b[1;33m)\u001b[0m\u001b[1;33m\u001b[0m\u001b[1;33m\u001b[0m\u001b[0m\n\u001b[0;32m      3\u001b[0m \u001b[1;33m\u001b[0m\u001b[0m\n\u001b[0;32m      4\u001b[0m \u001b[1;32mfor\u001b[0m \u001b[0mi\u001b[0m \u001b[1;32min\u001b[0m \u001b[0mrange\u001b[0m\u001b[1;33m(\u001b[0m\u001b[0ma\u001b[0m\u001b[1;33m,\u001b[0m\u001b[0mb\u001b[0m\u001b[1;33m)\u001b[0m\u001b[1;33m:\u001b[0m\u001b[1;33m\u001b[0m\u001b[1;33m\u001b[0m\u001b[0m\n\u001b[0;32m      5\u001b[0m     \u001b[1;32mif\u001b[0m \u001b[0mi\u001b[0m \u001b[1;33m%\u001b[0m \u001b[1;36m2\u001b[0m \u001b[1;33m==\u001b[0m \u001b[1;36m0\u001b[0m\u001b[1;33m:\u001b[0m\u001b[1;33m\u001b[0m\u001b[1;33m\u001b[0m\u001b[0m\n",
      "\u001b[1;31mNameError\u001b[0m: name 'imput' is not defined"
     ]
    }
   ],
   "source": [
    "a = int(input(\"Escriba un nùmero entero: \"))\n",
    "b = int(input(\"Escriba otro nùmero:\"))\n",
    "\n",
    "for i in range(a,b):\n",
    "    if i % 2 == 0:\n",
    "        print(i,\"Es un nùmero par\")\n",
    "    \n",
    "    else:\n",
    "        print(i, \"Es un nùmero impar\")\n",
    "    \n"
   ]
=======
   "execution_count": null,
   "metadata": {},
   "outputs": [],
   "source": []
>>>>>>> 25f01f8060d79cf52748e04aedef624da637cec4
  },
  {
   "cell_type": "markdown",
   "metadata": {},
   "source": [
    "2) Escriba un código que reciba un valor a (altura) y un valor l (largo). Por medio de for loops, imprima un rectangulo segun las medidas que se le ingresan\n",
    "Output esperado:\n",
    "        ********\n",
    "        *------*\n",
    "        *------*\n",
    "        *------*\n",
    "        ********"
   ]
  },
  {
   "cell_type": "code",
   "execution_count": null,
   "metadata": {},
   "outputs": [],
   "source": []
  }
 ],
 "metadata": {
  "kernelspec": {
   "display_name": "Python 3",
   "language": "python",
   "name": "python3"
  },
  "language_info": {
   "codemirror_mode": {
    "name": "ipython",
    "version": 3
   },
   "file_extension": ".py",
   "mimetype": "text/x-python",
   "name": "python",
   "nbconvert_exporter": "python",
   "pygments_lexer": "ipython3",
<<<<<<< HEAD
   "version": "3.8.5"
=======
   "version": "3.7.6"
>>>>>>> 25f01f8060d79cf52748e04aedef624da637cec4
  }
 },
 "nbformat": 4,
 "nbformat_minor": 4
}
